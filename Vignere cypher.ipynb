{
 "cells": [
  {
   "cell_type": "code",
   "execution_count": null,
   "metadata": {},
   "outputs": [],
   "source": [
    "#Vigenere Cipher Code\n",
    "import math\n",
    "plain_text=str(input().upper())   #enter plain text\n",
    "key=str(input().upper()) #enter the key\n",
    "\n",
    "\n",
    "def convert_str_inletters(string):\n",
    "    def ord_work(a):\n",
    "        if(ord(a)==32):\n",
    "            return 32\n",
    "        a=ord(a)-65\n",
    "        return a\n",
    "        \n",
    "    return list(map(ord_work,string))\n",
    "\n",
    "check=int(input(\"Press 1 for encryption and 2 for decryption : \"))\n",
    "if(check==1):\n",
    "    key_enc=convert_str_inletters(key)\n",
    "    plain_text_enc=convert_str_inletters(plain_text)\n",
    "    val=math.ceil(len(plain_text_enc) / len(key_enc))\n",
    "    key_enc=key_enc*val\n",
    "    cntr=0\n",
    "    for i in range(len(plain_text_enc)):\n",
    "        if(plain_text_enc[i]==32):\n",
    "            continue\n",
    "        plain_text_enc[i]=(plain_text_enc[i]+key_enc[cntr])%26\n",
    "        cntr+=1\n",
    "    for i in range(len(plain_text_enc)):\n",
    "        if(plain_text_enc[i]==32):\n",
    "            plain_text_enc[i]=chr(plain_text_enc[i])\n",
    "            continue\n",
    "        plain_text_enc[i]=chr(int(plain_text_enc[i])+65)\n",
    "    \n",
    "    print(\"\".join(plain_text_enc))\n",
    "        \n",
    "\n",
    "elif(check==2):\n",
    "    key_dec=convert_str_inletters(key)\n",
    "    plain_text_dec=convert_str_inletters(plain_text)\n",
    "    val=math.ceil(len(plain_text_dec) / len(key_dec))\n",
    "    key_dec=key_dec*val\n",
    "    cntr=0\n",
    "    for i in range(len(plain_text_dec)):\n",
    "        if(plain_text_dec[i]==32):\n",
    "            continue\n",
    "        plain_text_dec[i]=(plain_text_dec[i]-key_dec[cntr]+26)%26\n",
    "        cntr+=1\n",
    "    for i in range(len(plain_text_dec)):\n",
    "        if(plain_text_dec[i]==32):\n",
    "            plain_text_dec[i]=chr(plain_text_dec[i])\n",
    "            continue\n",
    "        plain_text_dec[i]=chr(int(plain_text_dec[i])+65)        \n",
    "    print(\"\".join(plain_text_dec))\n",
    "    "
   ]
  }
 ],
 "metadata": {
  "kernelspec": {
   "display_name": "Python 3",
   "language": "python",
   "name": "python3"
  },
  "language_info": {
   "codemirror_mode": {
    "name": "ipython",
    "version": 3
   },
   "file_extension": ".py",
   "mimetype": "text/x-python",
   "name": "python",
   "nbconvert_exporter": "python",
   "pygments_lexer": "ipython3",
   "version": "3.6.5"
  }
 },
 "nbformat": 4,
 "nbformat_minor": 2
}
