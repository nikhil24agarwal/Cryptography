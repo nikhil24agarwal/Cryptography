{
 "cells": [
  {
   "cell_type": "code",
   "execution_count": 29,
   "metadata": {},
   "outputs": [
    {
     "name": "stdout",
     "output_type": "stream",
     "text": [
      "Enter the message :hello how are you\n",
      "Enter the key :4\n",
      "Choose the following options\n",
      " 1) Encrypt the message \n",
      " 2)Decrypt the message\n",
      "Choice:2\n",
      "decripted message is DAHHK DKS WNA UKQ\n"
     ]
    }
   ],
   "source": [
    "\n",
    "\n",
    "msg=str(input('Enter the message :'))\n",
    "msg_list=[]\n",
    "k=int(input('Enter the key :'))\n",
    "print(\"Choose the following options\\n 1) Encrypt the message \\n 2)Decrypt the message\")\n",
    "opt=int(input('Choice:'))\n",
    "if(opt==1):\n",
    "    for i in msg:\n",
    "        if(ord(i)==32):\n",
    "            msg_list.append(\" \")\n",
    "            continue\n",
    "        ee=chr((((ord(i)-97)+k)%26)+65)\n",
    "        msg_list.append(ee)\n",
    "    print('Encripted message is',\"\".join(msg_list))\n",
    "elif(opt==2):\n",
    "    for i in msg:\n",
    "        if(ord(i)==32):\n",
    "            msg_list.append(\" \")\n",
    "            continue\n",
    "        ee=chr((((ord(i)-97)-k)%26)+65)\n",
    "        msg_list.append(ee)\n",
    "    print('decripted message is',\"\".join(msg_list))\n",
    "\n",
    "\n"
   ]
  },
  {
   "cell_type": "code",
   "execution_count": null,
   "metadata": {},
   "outputs": [],
   "source": []
  }
 ],
 "metadata": {
  "kernelspec": {
   "display_name": "Python 3",
   "language": "python",
   "name": "python3"
  },
  "language_info": {
   "codemirror_mode": {
    "name": "ipython",
    "version": 3
   },
   "file_extension": ".py",
   "mimetype": "text/x-python",
   "name": "python",
   "nbconvert_exporter": "python",
   "pygments_lexer": "ipython3",
   "version": "3.6.5"
  }
 },
 "nbformat": 4,
 "nbformat_minor": 2
}
