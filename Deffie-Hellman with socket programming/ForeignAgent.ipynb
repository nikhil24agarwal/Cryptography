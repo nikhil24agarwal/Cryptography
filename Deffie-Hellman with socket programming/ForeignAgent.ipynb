{
 "cells": [
  {
   "cell_type": "code",
   "execution_count": null,
   "metadata": {},
   "outputs": [],
   "source": [
    "#generate 2 prime numbers g and n where g<n (n should be large)\n",
    "import socket\n",
    "import random\n",
    "\n",
    "server=socket.socket()  \n",
    "#by default two parameters type of network working (ipv4-default or ipv6) and tcp-default udp network\n",
    "print('socket bangya')\n",
    "#we have to bind our socket with port number\n",
    "server.bind(('localhost',9980))\n",
    "server.listen(10)\n",
    "print('bhejo kuch bhejo')\n",
    "client,addr=server.accept()\n",
    "g=int(input('enter g : '))\n",
    "n=int(input('enter n : '))\n",
    "b=random.randint(1,n-1)\n",
    "cal_f=(g**b)%n\n",
    "rec_cal_h=int(client.recv(1024).decode())\n",
    "client.send(bytes(str(cal_f),'utf-8'))\n",
    "sk=(g**rec_cal_h)\n",
    "enc_text=client.recv(1024).decode()\n",
    "enc_text=enc_text.upper()\n",
    "enc_text=list(enc_text)\n",
    "for i in range(len(enc_text)):\n",
    "    if(ord(enc_text[i])==32):\n",
    "        continue\n",
    "    enc_text[i]=ord(enc_text[i])-65\n",
    "    enc_text[i]=chr(((enc_text[i]-sk)%26)+65)\n",
    "dec_text=\"\".join(enc_text)\n",
    "print(dec_text)\n",
    "\n"
   ]
  },
  {
   "cell_type": "code",
   "execution_count": null,
   "metadata": {},
   "outputs": [],
   "source": [
    "()"
   ]
  }
 ],
 "metadata": {
  "kernelspec": {
   "display_name": "Python 3",
   "language": "python",
   "name": "python3"
  },
  "language_info": {
   "codemirror_mode": {
    "name": "ipython",
    "version": 3
   },
   "file_extension": ".py",
   "mimetype": "text/x-python",
   "name": "python",
   "nbconvert_exporter": "python",
   "pygments_lexer": "ipython3",
   "version": "3.6.5"
  }
 },
 "nbformat": 4,
 "nbformat_minor": 2
}
