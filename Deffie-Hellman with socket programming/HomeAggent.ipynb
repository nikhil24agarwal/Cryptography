{
 "cells": [
  {
   "cell_type": "code",
   "execution_count": null,
   "metadata": {},
   "outputs": [],
   "source": [
    "#generate 2 prime numbers g and n where g<n (n should be large)\n",
    "\n",
    "import random\n",
    "import socket\n",
    "client=socket.socket()\n",
    "client.connect(('localhost',9980))\n",
    "g=int(input('Enter g : '))\n",
    "n=int(input('Enter n : '))\n",
    "a=random.randint(1,n-1)    #as a < n\n",
    "cal_h=(g**a)%n\n",
    "client.send(bytes(str(cal_h),'utf-8'))\n",
    "rec_cal_f=int(client.recv(1024).decode())\n",
    "sk=(g**rec_cal_f)%n\n",
    "plain_text=input('Enter the plain text : ')\n",
    "plain_text=plain_text.upper()\n",
    "plain_text=list(plain_text)\n",
    "for i in range(len(plain_text)):\n",
    "    if(ord(plain_text[i])==32):\n",
    "        continue\n",
    "    plain_text[i]=ord(plain_text[i])-65\n",
    "    plain_text[i]=chr(((plain_text[i]+sk)%26)+65)\n",
    "plain_text=\"\".join(plain_text)\n",
    "client.send(bytes(plain_text,'utf-8'))\n",
    "\n",
    "\n"
   ]
  }
 ],
 "metadata": {
  "kernelspec": {
   "display_name": "Python 3",
   "language": "python",
   "name": "python3"
  },
  "language_info": {
   "codemirror_mode": {
    "name": "ipython",
    "version": 3
   },
   "file_extension": ".py",
   "mimetype": "text/x-python",
   "name": "python",
   "nbconvert_exporter": "python",
   "pygments_lexer": "ipython3",
   "version": "3.6.5"
  }
 },
 "nbformat": 4,
 "nbformat_minor": 2
}
