{
 "cells": [
  {
   "cell_type": "code",
   "execution_count": 14,
   "metadata": {},
   "outputs": [
    {
     "name": "stdout",
     "output_type": "stream",
     "text": [
      "11111\n",
      "['1', '1', '1', '1', '1']\n",
      "[1, 0, 1, 1, 0]\n",
      "Press 1 for encryption 2 for decryption1\n",
      "01001\n"
     ]
    }
   ],
   "source": [
    "import random\n",
    "plain_text=list(str(input()))\n",
    "key=random.choices([0,1],k=len(plain_text))\n",
    "new_list=[]\n",
    "check=int(input('Press 1 for encryption 2 for decryption'))\n",
    "if(check==1):\n",
    "    for i in range(len(plain_text)):\n",
    "        new_list.append(str(int(key[i])^int(plain_text[i])))\n",
    "    print(\"\".join(new_list))\n",
    "elif(check==2):\n",
    "    for i in range(len(plain_text)):\n",
    "        new_list.append(str(int(key[i])^int(plain_text[i])))\n",
    "    print(\"\".join(new_list))\n",
    "\n",
    "    \n",
    "    \n",
    "\n",
    "\n",
    "\n"
   ]
  },
  {
   "cell_type": "code",
   "execution_count": null,
   "metadata": {},
   "outputs": [],
   "source": []
  }
 ],
 "metadata": {
  "kernelspec": {
   "display_name": "Python 3",
   "language": "python",
   "name": "python3"
  },
  "language_info": {
   "codemirror_mode": {
    "name": "ipython",
    "version": 3
   },
   "file_extension": ".py",
   "mimetype": "text/x-python",
   "name": "python",
   "nbconvert_exporter": "python",
   "pygments_lexer": "ipython3",
   "version": "3.6.5"
  }
 },
 "nbformat": 4,
 "nbformat_minor": 2
}
