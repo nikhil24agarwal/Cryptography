{
 "cells": [
  {
   "cell_type": "code",
   "execution_count": null,
   "metadata": {},
   "outputs": [],
   "source": [
    "value=list(map(int,input('Enter the value a & b : ').split(\" \")))\n",
    "p=input(\"Enter the string : \")\n",
    "p=p.upper()\n",
    "p_list=list(p)\n",
    "p_list\n",
    "en_list=[]\n",
    "choice=int(input(\"Choose 1 for encription and 2 decription : \"))\n",
    "if(choice==1):\n",
    "    for i in p_list:\n",
    "        x=((ord(i)-65)%26)\n",
    "        ex=value[0]*x+value[1]\n",
    "        ex=chr(ex+65)\n",
    "        en_list.append(ex)\n",
    "elif(choice==2):\n",
    "    for i in p_list:\n",
    "        c=((ord(i)-65)%26)\n",
    "        dx=((1//value[0])*(c-value[1]))%26\n",
    "        dx=chr(dx+65)\n",
    "        en_list.append(dx)\n",
    "        \n",
    "\n",
    "        \n",
    "\"\".join(en_list)\n",
    "\n",
    "        "
   ]
  }
 ],
 "metadata": {
  "kernelspec": {
   "display_name": "Python 3",
   "language": "python",
   "name": "python3"
  },
  "language_info": {
   "codemirror_mode": {
    "name": "ipython",
    "version": 3
   },
   "file_extension": ".py",
   "mimetype": "text/x-python",
   "name": "python",
   "nbconvert_exporter": "python",
   "pygments_lexer": "ipython3",
   "version": "3.6.5"
  }
 },
 "nbformat": 4,
 "nbformat_minor": 2
}
