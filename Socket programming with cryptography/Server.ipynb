{
 "cells": [
  {
   "cell_type": "code",
   "execution_count": null,
   "metadata": {},
   "outputs": [],
   "source": [
    "import socket"
   ]
  },
  {
   "cell_type": "code",
   "execution_count": null,
   "metadata": {},
   "outputs": [],
   "source": [
    "import math\n",
    "\n",
    "\n",
    "def convert_str_inletters(string):\n",
    "    def ord_work(a):\n",
    "        if(ord(a)==32):\n",
    "            return 32\n",
    "        a=ord(a)-65\n",
    "        return a\n",
    "\n",
    "    return list(map(ord_work,string))\n",
    "    \n",
    "\n",
    "def enc(a,b):\n",
    "    plain_text=a.upper()   #enter plain text\n",
    "    key=b.upper() #enter the key\n",
    "    if(True):\n",
    "        key_enc=convert_str_inletters(key)\n",
    "        plain_text_enc=convert_str_inletters(plain_text)\n",
    "        val=math.ceil(len(plain_text_enc) / len(key_enc))\n",
    "        key_enc=key_enc*val\n",
    "        cntr=0\n",
    "        for i in range(len(plain_text_enc)):\n",
    "            if(plain_text_enc[i]==32):\n",
    "                continue\n",
    "            plain_text_enc[i]=(plain_text_enc[i]+key_enc[cntr])%26\n",
    "            cntr+=1\n",
    "        for i in range(len(plain_text_enc)):\n",
    "            if(plain_text_enc[i]==32):\n",
    "                plain_text_enc[i]=chr(plain_text_enc[i])\n",
    "                continue\n",
    "            plain_text_enc[i]=chr(int(plain_text_enc[i])+65)\n",
    "\n",
    "    return \"\".join(plain_text_enc)\n",
    "\n",
    "\n",
    "def dec(a,b):\n",
    "    \n",
    "    plain_text=a.upper()   #enter plain text\n",
    "    key=b.upper() #enter the key\n",
    "    if(True):\n",
    "        key_dec=convert_str_inletters(key)\n",
    "        plain_text_dec=convert_str_inletters(plain_text)\n",
    "        val=math.ceil(len(plain_text_dec) / len(key_dec))\n",
    "        key_dec=key_dec*val\n",
    "        cntr=0\n",
    "        for i in range(len(plain_text_dec)):\n",
    "            if(plain_text_dec[i]==32):\n",
    "                continue\n",
    "            plain_text_dec[i]=(plain_text_dec[i]-key_dec[cntr]+26)%26\n",
    "            cntr+=1\n",
    "        for i in range(len(plain_text_dec)):\n",
    "            if(plain_text_dec[i]==32):\n",
    "                plain_text_dec[i]=chr(plain_text_dec[i])\n",
    "                continue\n",
    "            plain_text_dec[i]=chr(int(plain_text_dec[i])+65)        \n",
    "    return \"\".join(plain_text_dec)\n"
   ]
  },
  {
   "cell_type": "code",
   "execution_count": null,
   "metadata": {},
   "outputs": [],
   "source": [
    "server=socket.socket()  \n",
    "#by default two parameters type of network working (ipv4-default or ipv6) and tcp-default udp network\n",
    "print('socket bangya')"
   ]
  },
  {
   "cell_type": "code",
   "execution_count": null,
   "metadata": {},
   "outputs": [],
   "source": [
    "#we have to bind our socket with port number\n",
    "server.bind(('localhost',9999))\n",
    "key='abcd'"
   ]
  },
  {
   "cell_type": "code",
   "execution_count": null,
   "metadata": {},
   "outputs": [],
   "source": [
    "server.listen(10)\n",
    "print('bhejo kuch bhejo')"
   ]
  },
  {
   "cell_type": "code",
   "execution_count": null,
   "metadata": {},
   "outputs": [],
   "source": [
    "client,addr=server.accept()\n",
    "while(True):\n",
    "\n",
    "    \n",
    "    print('client agya',addr)\n",
    "    rec=client.recv(1024).decode()\n",
    "    \n",
    "    print(rec)\n",
    "    decy=dec(rec,key)\n",
    "    if(decy=='Q'):\n",
    "        break\n",
    "    client.send(bytes(decy,'utf-8'))\n",
    "\n",
    "    \n",
    "client.close()\n"
   ]
  }
 ],
 "metadata": {
  "kernelspec": {
   "display_name": "Python 3",
   "language": "python",
   "name": "python3"
  },
  "language_info": {
   "codemirror_mode": {
    "name": "ipython",
    "version": 3
   },
   "file_extension": ".py",
   "mimetype": "text/x-python",
   "name": "python",
   "nbconvert_exporter": "python",
   "pygments_lexer": "ipython3",
   "version": "3.6.5"
  }
 },
 "nbformat": 4,
 "nbformat_minor": 2
}
